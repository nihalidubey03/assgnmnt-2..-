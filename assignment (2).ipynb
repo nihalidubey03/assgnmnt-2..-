{
 "cells": [
  {
   "cell_type": "code",
   "execution_count": 5,
   "id": "8013a74d",
   "metadata": {},
   "outputs": [
    {
     "name": "stdout",
     "output_type": "stream",
     "text": [
      "error when dividing by zero\n"
     ]
    }
   ],
   "source": [
    "\n",
    "#Write a function to compute 5/0 and use try/except to catch the exceptions.\n",
    "try:\n",
    "    x=5\n",
    "    y=0\n",
    "    z=x/y\n",
    "except:\n",
    "    print(\"error when dividing by zero\")\n",
    "else:\n",
    "    print(z) \n",
    "    \n"
   ]
  },
  {
   "cell_type": "code",
   "execution_count": 2,
   "id": "6d9c2ac8",
   "metadata": {},
   "outputs": [
    {
     "name": "stdout",
     "output_type": "stream",
     "text": [
      "Americans Play Baseball\n",
      "Americans Play cricket\n",
      "Americans watch Baseball\n",
      "Americans watch cricket\n",
      "Indians Play Baseball\n",
      "Indians Play cricket\n",
      "Indians watch Baseball\n",
      "Indians watch cricket\n"
     ]
    }
   ],
   "source": [
    "#Implement a Python program to generate all sentences where subject is in [\"Americans\", \"Indians\"] and verb is in [\"Play\", \"watch\"] and the object is in [\"Baseball\",\"cricket\"].\n",
    "sub=['Americans', \"Indians\"]\n",
    "verb=[\"Play\", \"watch\"]\n",
    "obj=[\"Baseball\",\"cricket\"]\n",
    "x=[[sb +\" \"+vr+\" \"+ob] for sb in sub for vr in verb for ob in obj]\n",
    "for i in x:\n",
    "    print(i[0])\n"
   ]
  },
  {
   "cell_type": "code",
   "execution_count": 4,
   "id": "b557670d",
   "metadata": {},
   "outputs": [
    {
     "name": "stdout",
     "output_type": "stream",
     "text": [
      "[[  1   1   1   1   1]\n",
      " [  1   2   4   8  16]\n",
      " [  1   3   9  27  81]\n",
      " [  1   4  16  64 256]\n",
      " [  1   5  25 125 625]]\n"
     ]
    }
   ],
   "source": [
    "#Write a function so that the columns of the output matrix are powers of the input vector.\n",
    "import numpy as np\n",
    "def matrix(vect):\n",
    "    x = np.array(vect)\n",
    "    N=len(x)\n",
    "    y = np.array([x**i for i in range(N)])\n",
    "    return(y.T)\n",
    "vect =[1,2,3,4,5]\n",
    "print(matrix(vect))\n",
    "\n",
    "   "
   ]
  },
  {
   "cell_type": "code",
   "execution_count": null,
   "id": "e6ced02a",
   "metadata": {},
   "outputs": [],
   "source": []
  }
 ],
 "metadata": {
  "kernelspec": {
   "display_name": "Python 3",
   "language": "python",
   "name": "python3"
  },
  "language_info": {
   "codemirror_mode": {
    "name": "ipython",
    "version": 3
   },
   "file_extension": ".py",
   "mimetype": "text/x-python",
   "name": "python",
   "nbconvert_exporter": "python",
   "pygments_lexer": "ipython3",
   "version": "3.8.8"
  }
 },
 "nbformat": 4,
 "nbformat_minor": 5
}
